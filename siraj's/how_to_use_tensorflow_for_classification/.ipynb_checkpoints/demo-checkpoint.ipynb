{
 "cells": [
  {
   "cell_type": "code",
   "execution_count": 32,
   "metadata": {
    "collapsed": true
   },
   "outputs": [],
   "source": [
    "import pandas as pd #work with data as tables\n",
    "import numpy as np #use number matrices\n",
    "import matplotlib.pyplot as plt\n",
    "import tensorflow as tf"
   ]
  },
  {
   "cell_type": "code",
   "execution_count": 33,
   "metadata": {
    "collapsed": true
   },
   "outputs": [],
   "source": [
    "# step 1\n",
    "dataframe = pd.read_csv('data.csv')"
   ]
  },
  {
   "cell_type": "code",
   "execution_count": 34,
   "metadata": {
    "collapsed": false
   },
   "outputs": [
    {
     "data": {
      "text/html": [
       "<div>\n",
       "<table border=\"1\" class=\"dataframe\">\n",
       "  <thead>\n",
       "    <tr style=\"text-align: right;\">\n",
       "      <th></th>\n",
       "      <th>index</th>\n",
       "      <th>area</th>\n",
       "      <th>bathrooms</th>\n",
       "      <th>price</th>\n",
       "      <th>sq_price</th>\n",
       "    </tr>\n",
       "  </thead>\n",
       "  <tbody>\n",
       "    <tr>\n",
       "      <th>0</th>\n",
       "      <td>0</td>\n",
       "      <td>2104.0</td>\n",
       "      <td>3.0</td>\n",
       "      <td>399900.0</td>\n",
       "      <td>190.066540</td>\n",
       "    </tr>\n",
       "    <tr>\n",
       "      <th>1</th>\n",
       "      <td>1</td>\n",
       "      <td>1600.0</td>\n",
       "      <td>3.0</td>\n",
       "      <td>329900.0</td>\n",
       "      <td>206.187500</td>\n",
       "    </tr>\n",
       "    <tr>\n",
       "      <th>2</th>\n",
       "      <td>2</td>\n",
       "      <td>2400.0</td>\n",
       "      <td>3.0</td>\n",
       "      <td>369000.0</td>\n",
       "      <td>153.750000</td>\n",
       "    </tr>\n",
       "    <tr>\n",
       "      <th>3</th>\n",
       "      <td>3</td>\n",
       "      <td>1416.0</td>\n",
       "      <td>2.0</td>\n",
       "      <td>232000.0</td>\n",
       "      <td>163.841808</td>\n",
       "    </tr>\n",
       "    <tr>\n",
       "      <th>4</th>\n",
       "      <td>4</td>\n",
       "      <td>3000.0</td>\n",
       "      <td>4.0</td>\n",
       "      <td>539900.0</td>\n",
       "      <td>179.966667</td>\n",
       "    </tr>\n",
       "    <tr>\n",
       "      <th>5</th>\n",
       "      <td>5</td>\n",
       "      <td>1985.0</td>\n",
       "      <td>4.0</td>\n",
       "      <td>299900.0</td>\n",
       "      <td>151.083123</td>\n",
       "    </tr>\n",
       "    <tr>\n",
       "      <th>6</th>\n",
       "      <td>6</td>\n",
       "      <td>1534.0</td>\n",
       "      <td>3.0</td>\n",
       "      <td>314900.0</td>\n",
       "      <td>205.280313</td>\n",
       "    </tr>\n",
       "    <tr>\n",
       "      <th>7</th>\n",
       "      <td>7</td>\n",
       "      <td>1427.0</td>\n",
       "      <td>3.0</td>\n",
       "      <td>198999.0</td>\n",
       "      <td>139.452698</td>\n",
       "    </tr>\n",
       "    <tr>\n",
       "      <th>8</th>\n",
       "      <td>8</td>\n",
       "      <td>1380.0</td>\n",
       "      <td>3.0</td>\n",
       "      <td>212000.0</td>\n",
       "      <td>153.623188</td>\n",
       "    </tr>\n",
       "    <tr>\n",
       "      <th>9</th>\n",
       "      <td>9</td>\n",
       "      <td>1494.0</td>\n",
       "      <td>3.0</td>\n",
       "      <td>242500.0</td>\n",
       "      <td>162.315930</td>\n",
       "    </tr>\n",
       "  </tbody>\n",
       "</table>\n",
       "</div>"
      ],
      "text/plain": [
       "   index    area  bathrooms     price    sq_price\n",
       "0      0  2104.0        3.0  399900.0  190.066540\n",
       "1      1  1600.0        3.0  329900.0  206.187500\n",
       "2      2  2400.0        3.0  369000.0  153.750000\n",
       "3      3  1416.0        2.0  232000.0  163.841808\n",
       "4      4  3000.0        4.0  539900.0  179.966667\n",
       "5      5  1985.0        4.0  299900.0  151.083123\n",
       "6      6  1534.0        3.0  314900.0  205.280313\n",
       "7      7  1427.0        3.0  198999.0  139.452698\n",
       "8      8  1380.0        3.0  212000.0  153.623188\n",
       "9      9  1494.0        3.0  242500.0  162.315930"
      ]
     },
     "execution_count": 34,
     "metadata": {},
     "output_type": "execute_result"
    }
   ],
   "source": [
    "dataframe.head()\n",
    "\n",
    "dataframe = dataframe[0:10]\n",
    "dataframe"
   ]
  },
  {
   "cell_type": "code",
   "execution_count": 35,
   "metadata": {
    "collapsed": false
   },
   "outputs": [],
   "source": [
    "dataframe = dataframe.drop(['index', 'price','sq_price'], axis=1)"
   ]
  },
  {
   "cell_type": "code",
   "execution_count": 36,
   "metadata": {
    "collapsed": false
   },
   "outputs": [
    {
     "data": {
      "text/html": [
       "<div>\n",
       "<table border=\"1\" class=\"dataframe\">\n",
       "  <thead>\n",
       "    <tr style=\"text-align: right;\">\n",
       "      <th></th>\n",
       "      <th>area</th>\n",
       "      <th>bathrooms</th>\n",
       "    </tr>\n",
       "  </thead>\n",
       "  <tbody>\n",
       "    <tr>\n",
       "      <th>0</th>\n",
       "      <td>2104.0</td>\n",
       "      <td>3.0</td>\n",
       "    </tr>\n",
       "    <tr>\n",
       "      <th>1</th>\n",
       "      <td>1600.0</td>\n",
       "      <td>3.0</td>\n",
       "    </tr>\n",
       "    <tr>\n",
       "      <th>2</th>\n",
       "      <td>2400.0</td>\n",
       "      <td>3.0</td>\n",
       "    </tr>\n",
       "    <tr>\n",
       "      <th>3</th>\n",
       "      <td>1416.0</td>\n",
       "      <td>2.0</td>\n",
       "    </tr>\n",
       "    <tr>\n",
       "      <th>4</th>\n",
       "      <td>3000.0</td>\n",
       "      <td>4.0</td>\n",
       "    </tr>\n",
       "  </tbody>\n",
       "</table>\n",
       "</div>"
      ],
      "text/plain": [
       "     area  bathrooms\n",
       "0  2104.0        3.0\n",
       "1  1600.0        3.0\n",
       "2  2400.0        3.0\n",
       "3  1416.0        2.0\n",
       "4  3000.0        4.0"
      ]
     },
     "execution_count": 36,
     "metadata": {},
     "output_type": "execute_result"
    }
   ],
   "source": [
    "dataframe.head()"
   ]
  },
  {
   "cell_type": "code",
   "execution_count": 41,
   "metadata": {
    "collapsed": false
   },
   "outputs": [
    {
     "data": {
      "text/html": [
       "<div>\n",
       "<table border=\"1\" class=\"dataframe\">\n",
       "  <thead>\n",
       "    <tr style=\"text-align: right;\">\n",
       "      <th></th>\n",
       "      <th>area</th>\n",
       "      <th>bathrooms</th>\n",
       "      <th>y1</th>\n",
       "      <th>y2</th>\n",
       "    </tr>\n",
       "  </thead>\n",
       "  <tbody>\n",
       "    <tr>\n",
       "      <th>0</th>\n",
       "      <td>2104.0</td>\n",
       "      <td>3.0</td>\n",
       "      <td>1</td>\n",
       "      <td>0</td>\n",
       "    </tr>\n",
       "    <tr>\n",
       "      <th>1</th>\n",
       "      <td>1600.0</td>\n",
       "      <td>3.0</td>\n",
       "      <td>1</td>\n",
       "      <td>0</td>\n",
       "    </tr>\n",
       "    <tr>\n",
       "      <th>2</th>\n",
       "      <td>2400.0</td>\n",
       "      <td>3.0</td>\n",
       "      <td>1</td>\n",
       "      <td>0</td>\n",
       "    </tr>\n",
       "    <tr>\n",
       "      <th>3</th>\n",
       "      <td>1416.0</td>\n",
       "      <td>2.0</td>\n",
       "      <td>0</td>\n",
       "      <td>1</td>\n",
       "    </tr>\n",
       "    <tr>\n",
       "      <th>4</th>\n",
       "      <td>3000.0</td>\n",
       "      <td>4.0</td>\n",
       "      <td>0</td>\n",
       "      <td>1</td>\n",
       "    </tr>\n",
       "    <tr>\n",
       "      <th>5</th>\n",
       "      <td>1985.0</td>\n",
       "      <td>4.0</td>\n",
       "      <td>1</td>\n",
       "      <td>0</td>\n",
       "    </tr>\n",
       "    <tr>\n",
       "      <th>6</th>\n",
       "      <td>1534.0</td>\n",
       "      <td>3.0</td>\n",
       "      <td>0</td>\n",
       "      <td>1</td>\n",
       "    </tr>\n",
       "    <tr>\n",
       "      <th>7</th>\n",
       "      <td>1427.0</td>\n",
       "      <td>3.0</td>\n",
       "      <td>1</td>\n",
       "      <td>0</td>\n",
       "    </tr>\n",
       "    <tr>\n",
       "      <th>8</th>\n",
       "      <td>1380.0</td>\n",
       "      <td>3.0</td>\n",
       "      <td>1</td>\n",
       "      <td>0</td>\n",
       "    </tr>\n",
       "    <tr>\n",
       "      <th>9</th>\n",
       "      <td>1494.0</td>\n",
       "      <td>3.0</td>\n",
       "      <td>1</td>\n",
       "      <td>0</td>\n",
       "    </tr>\n",
       "  </tbody>\n",
       "</table>\n",
       "</div>"
      ],
      "text/plain": [
       "     area  bathrooms  y1  y2\n",
       "0  2104.0        3.0   1   0\n",
       "1  1600.0        3.0   1   0\n",
       "2  2400.0        3.0   1   0\n",
       "3  1416.0        2.0   0   1\n",
       "4  3000.0        4.0   0   1\n",
       "5  1985.0        4.0   1   0\n",
       "6  1534.0        3.0   0   1\n",
       "7  1427.0        3.0   1   0\n",
       "8  1380.0        3.0   1   0\n",
       "9  1494.0        3.0   1   0"
      ]
     },
     "execution_count": 41,
     "metadata": {},
     "output_type": "execute_result"
    }
   ],
   "source": [
    "# step 2\n",
    "# 1 is good buy and 0 is bad buy\n",
    "dataframe.loc[:, ('y1')] = [1, 1, 1, 0, 0, 1, 0, 1, 1,1]\n",
    "dataframe.loc[:, ('y2')] = dataframe['y1'] == 0\n",
    "dataframe.loc[:, ('y2')] = dataframe['y2'].astype(int)\n",
    "dataframe"
   ]
  },
  {
   "cell_type": "code",
   "execution_count": 43,
   "metadata": {
    "collapsed": false
   },
   "outputs": [],
   "source": [
    "# step 3 - prepare data for tensorflow (tensors)\n",
    "# tensors are a generic version of vectors and matrices\n",
    "#vector is a list of list of numbers (1D tensor)\n",
    "#matrix is a list of list numbers (2D Tensor)\n",
    "#list of list of list of numbers (3D tensor)\n",
    "#......\n",
    "#convert features to input tensor\n",
    "inputX = dataframe.loc[:, ['area', 'bathrooms']].as_matrix()\n",
    "#convert labels to input tensors\n",
    "inputY = dataframe.loc[:, ['y1', 'y2']].as_matrix()"
   ]
  },
  {
   "cell_type": "code",
   "execution_count": 57,
   "metadata": {
    "collapsed": false
   },
   "outputs": [
    {
     "data": {
      "text/plain": [
       "20"
      ]
     },
     "execution_count": 57,
     "metadata": {},
     "output_type": "execute_result"
    }
   ],
   "source": [
    "#step 4 - write out our hyperparneters\n",
    "learning_rate = 0.000001\n",
    "training_epochs = 2000\n",
    "display_step = 50\n",
    "n_samples = inputY.size"
   ]
  },
  {
   "cell_type": "code",
   "execution_count": 55,
   "metadata": {
    "collapsed": false
   },
   "outputs": [],
   "source": [
    "#step 5 - Create our computation graph/neural network\n",
    "x = tf.placeholder(tf.float32, [None, 2]) \n",
    "W = tf.Variable(tf.zeros([2, 2]))           \n",
    "b = tf.Variable(tf.zeros([2]))   \n",
    "y_values = tf.add(tf.matmul(x, W), b)       \n",
    "y = tf.nn.softmax(y_values)\n",
    "y_ = tf.placeholder(tf.float32, [None,2])"
   ]
  },
  {
   "cell_type": "code",
   "execution_count": 56,
   "metadata": {
    "collapsed": false
   },
   "outputs": [],
   "source": [
    "#step  6 - perform training\n",
    "# Cost function: Mean squared error\n",
    "cost = tf.reduce_sum(tf.pow(y_ - y, 2))/(2*n_samples)\n",
    "# Gradient descent\n",
    "optimizer = tf.train.GradientDescentOptimizer(learning_rate).minimize(cost)"
   ]
  },
  {
   "cell_type": "code",
   "execution_count": null,
   "metadata": {
    "collapsed": true
   },
   "outputs": [],
   "source": []
  }
 ],
 "metadata": {
  "kernelspec": {
   "display_name": "Python 3",
   "language": "python",
   "name": "python3"
  },
  "language_info": {
   "codemirror_mode": {
    "name": "ipython",
    "version": 3
   },
   "file_extension": ".py",
   "mimetype": "text/x-python",
   "name": "python",
   "nbconvert_exporter": "python",
   "pygments_lexer": "ipython3",
   "version": "3.5.3"
  }
 },
 "nbformat": 4,
 "nbformat_minor": 2
}
